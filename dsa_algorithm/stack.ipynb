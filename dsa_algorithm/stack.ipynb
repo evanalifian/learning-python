{
 "cells": [
  {
   "cell_type": "markdown",
   "metadata": {},
   "source": [
    "# Stack\n",
    "\n",
    "Stack merupakan struktur data yang mengimplementasi konsep LIFO (Last In First Out). Artinya, element yang masuk terakhir pada stack akan keluar pertama. Sedangkan elemen yang pertama kali masuk akan keluar terakhir.\n",
    "\n",
    "## Basic Operation\n",
    "\n",
    "Terdapat beberapa basic oparation yang bisa kita lakukan pada stack:\n",
    "\n",
    "1. `push`: Menambah element baru pada stack.\n",
    "2. `pop`: menghapus element paling atas/terakhir (*top of the stack*) pada stack.\n",
    "3. `peek`: melihat element paling atas/*top of the stack* pada stack.\n",
    "4. `is_empty`: mengecek apakah stack dalam keadaan kosong atau tidak.\n",
    "5. `size`: mengembalikan ukuran stack.\n",
    "\n",
    "## Analogi Stack\n",
    "\n",
    "![analogi stack](https://cdn.programiz.com/sites/tutorial2program/files/stack.png)\n",
    "\n",
    "## Code"
   ]
  },
  {
   "cell_type": "code",
   "execution_count": 144,
   "metadata": {},
   "outputs": [],
   "source": [
    "class Stack:\n",
    "  def __init__(self):\n",
    "    self.stack = []\n",
    "  \n",
    "  def push(self, data):\n",
    "    self.stack.append(data)\n",
    "  \n",
    "  def pop(self):\n",
    "    return \"Stack is empty\" if self.is_empty() else self.stack.pop()\n",
    "  \n",
    "  def peek(self):\n",
    "    return self.stack[-1]\n",
    "  \n",
    "  def is_empty(self):\n",
    "    return len(self.stack) == 0\n",
    "\n",
    "  def size(self):\n",
    "    return len(self.stack)"
   ]
  },
  {
   "cell_type": "code",
   "execution_count": 145,
   "metadata": {},
   "outputs": [
    {
     "name": "stdout",
     "output_type": "stream",
     "text": [
      "Ukuran stack: 3\n",
      "\n",
      "Data paling atas: 3\n",
      "\n",
      "Data yang di-pop: 3\n",
      "Data paling atas: 2\n",
      "\n"
     ]
    }
   ],
   "source": [
    "# Membuat variable stack\n",
    "data = Stack()\n",
    "\n",
    "# Push data pada stack\n",
    "data.push(1)\n",
    "data.push(2)\n",
    "data.push(3)\n",
    "\n",
    "# Milihat ukuran stack\n",
    "print(f\"Ukuran stack: {data.size()}\")\n",
    "print()\n",
    "\n",
    "# Melihat data top of the stack\n",
    "print(f\"Data paling atas: {data.peek()}\")\n",
    "print()\n",
    "\n",
    "# Menghapus data top of the stack\n",
    "remove_data = data.pop()\n",
    "print(f\"Data yang di-pop: {remove_data}\")\n",
    "print(f\"Data paling atas: {data.peek()}\")\n",
    "print()"
   ]
  },
  {
   "cell_type": "markdown",
   "metadata": {},
   "source": [
    "# Studi Kasus\n",
    "\n",
    "Untuk lebih memahami struktur data stack, terdapat 2 studi kasus yang harus diselesaikan menggunakan konsep stack:\n",
    "\n",
    "1. **Parentheses**: mengecek tanda kurung yang saling berpasangan."
   ]
  },
  {
   "cell_type": "markdown",
   "metadata": {},
   "source": [
    "## Parentheses Checker"
   ]
  },
  {
   "cell_type": "code",
   "execution_count": 146,
   "metadata": {},
   "outputs": [],
   "source": [
    "data = Stack()\n",
    "parentheses = \"()}}\"\n",
    "close_parentheses = {\n",
    "  \"}\": \"{\",\n",
    "  \")\": \"(\",\n",
    "  \"]\": \"[\",\n",
    "}\n",
    "err_msg = \"\"\n",
    "count_err_msg = 0"
   ]
  },
  {
   "cell_type": "code",
   "execution_count": 147,
   "metadata": {},
   "outputs": [
    {
     "name": "stdout",
     "output_type": "stream",
     "text": [
      "Parentheses tidak sempurna ❌\n",
      "\n",
      "Pesan error:\n",
      "1. Kelebihan kurung tutup: }\n",
      "2. Kelebihan kurung tutup: }\n",
      "\n"
     ]
    }
   ],
   "source": [
    "for p in parentheses:\n",
    "  if p in \"({[\":\n",
    "    data.push(p)\n",
    "  else:\n",
    "    if data.is_empty():\n",
    "      count_err_msg += 1\n",
    "      err_msg += f\"{count_err_msg}. Kelebihan kurung tutup: {p}\\n\"\n",
    "    else:\n",
    "      if data.peek() == close_parentheses[p]:\n",
    "        data.pop()\n",
    "      else:\n",
    "        count_err_msg += 1\n",
    "        err_msg += f\"{count_err_msg}. Kurung tidak sama\\n\"\n",
    "\n",
    "while not data.is_empty():\n",
    "  open_bracket = data.pop()\n",
    "  count_err_msg += 1\n",
    "  err_msg += f\"{count_err_msg}. Kelebihan kurung buka: {open_bracket}\\n\"\n",
    "\n",
    "if len(err_msg) == 0:\n",
    "  print(\"Parentheses sempurna ✅\")\n",
    "else:\n",
    "  print(f\"Parentheses tidak sempurna ❌\\n\\nPesan error:\\n{err_msg}\")"
   ]
  }
 ],
 "metadata": {
  "kernelspec": {
   "display_name": "Python 3",
   "language": "python",
   "name": "python3"
  },
  "language_info": {
   "codemirror_mode": {
    "name": "ipython",
    "version": 3
   },
   "file_extension": ".py",
   "mimetype": "text/x-python",
   "name": "python",
   "nbconvert_exporter": "python",
   "pygments_lexer": "ipython3",
   "version": "3.12.3"
  }
 },
 "nbformat": 4,
 "nbformat_minor": 2
}
